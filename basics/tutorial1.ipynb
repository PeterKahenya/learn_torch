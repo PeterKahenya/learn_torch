{
 "cells": [
  {
   "cell_type": "code",
   "execution_count": 38,
   "metadata": {},
   "outputs": [],
   "source": [
    "import torch\n",
    "from torch import nn\n",
    "from torch.utils.data import DataLoader\n",
    "from torchvision import datasets\n",
    "from torchvision.transforms import ToTensor, Lambda\n",
    "import matplotlib.pyplot as plt"
   ]
  },
  {
   "cell_type": "code",
   "execution_count": 5,
   "metadata": {},
   "outputs": [],
   "source": [
    "training_data = datasets.FashionMNIST(root=\"data\",train=True,download=True,transform=ToTensor())\n",
    "testing_data = datasets.FashionMNIST(root=\"data\",train=False,download=True,transform=ToTensor())"
   ]
  },
  {
   "cell_type": "code",
   "execution_count": 6,
   "metadata": {},
   "outputs": [
    {
     "name": "stdout",
     "output_type": "stream",
     "text": [
      "Shape of X[N, C, H, W]: torch.Size([64, 1, 28, 28])\n",
      "Shape of y: torch.Size([64]) torch.int64\n"
     ]
    }
   ],
   "source": [
    "batch_size = 64\n",
    "\n",
    "training_data_loader = DataLoader(training_data,batch_size=batch_size)\n",
    "testing_data_loader = DataLoader(testing_data,batch_size=batch_size)\n",
    "\n",
    "for X,y in testing_data_loader:\n",
    "    print(f\"Shape of X[N, C, H, W]: {X.shape}\")\n",
    "    print(f\"Shape of y: {y.shape} {y.dtype}\")\n",
    "    break"
   ]
  },
  {
   "cell_type": "code",
   "execution_count": 7,
   "metadata": {},
   "outputs": [
    {
     "name": "stdout",
     "output_type": "stream",
     "text": [
      "using device cpu\n"
     ]
    }
   ],
   "source": [
    "device = ('cuda' if torch.cuda.is_available() else \"mps\" if torch.backends.mps.is_available() else \"cpu\")\n",
    "print(f\"using device {device}\")"
   ]
  },
  {
   "cell_type": "code",
   "execution_count": 8,
   "metadata": {},
   "outputs": [],
   "source": [
    "class NeuralNetwork(nn.Module):\n",
    "    def __init__(self):\n",
    "        super().__init__()\n",
    "        self.flatten = nn.Flatten()\n",
    "        self.linear_relu_stack = nn.Sequential(\n",
    "            nn.Linear(28*28,512),\n",
    "            nn.ReLU(),\n",
    "            nn.Linear(512, 512),\n",
    "            nn.ReLU(),\n",
    "            nn.Linear(512, 10)\n",
    "        )\n",
    "\n",
    "    def forward(self, x):\n",
    "        x = self.flatten(x)\n",
    "        logits = self.linear_relu_stack(x)\n",
    "        return logits"
   ]
  },
  {
   "cell_type": "code",
   "execution_count": 9,
   "metadata": {},
   "outputs": [
    {
     "name": "stdout",
     "output_type": "stream",
     "text": [
      "NeuralNetwork(\n",
      "  (flatten): Flatten(start_dim=1, end_dim=-1)\n",
      "  (linear_relu_stack): Sequential(\n",
      "    (0): Linear(in_features=784, out_features=512, bias=True)\n",
      "    (1): ReLU()\n",
      "    (2): Linear(in_features=512, out_features=512, bias=True)\n",
      "    (3): ReLU()\n",
      "    (4): Linear(in_features=512, out_features=10, bias=True)\n",
      "  )\n",
      ")\n"
     ]
    }
   ],
   "source": [
    "model = NeuralNetwork().to(device)\n",
    "print(model)"
   ]
  },
  {
   "cell_type": "code",
   "execution_count": 24,
   "metadata": {},
   "outputs": [],
   "source": [
    "loss_fn = nn.CrossEntropyLoss()\n",
    "optimizer = torch.optim.SGD(model.parameters(), lr=1e-3)"
   ]
  },
  {
   "cell_type": "code",
   "execution_count": 25,
   "metadata": {},
   "outputs": [],
   "source": [
    "def train(dataloader, model:nn.Module, loss_fn:nn.CrossEntropyLoss, optimizer):\n",
    "    size = len(dataloader.dataset)\n",
    "    model.train() # sets module in training mode\n",
    "    for batch, (X,y) in enumerate(dataloader):\n",
    "        X,y = X.to(device), y.to(device)\n",
    "\n",
    "        #predict and get the error\n",
    "        pred = model(X)\n",
    "        loss = loss_fn(pred,y)\n",
    "\n",
    "        #backpropagation\n",
    "        optimizer.zero_grad()\n",
    "        loss.backward()\n",
    "        optimizer.step()\n",
    "\n",
    "        if batch % 100 == 0:\n",
    "            loss, current = loss.item(), (batch+1)*len(X)\n",
    "            print(f\"loss: {loss:>7f}  [{current:>5d}/{size:>5d}]\")"
   ]
  },
  {
   "cell_type": "code",
   "execution_count": 26,
   "metadata": {},
   "outputs": [],
   "source": [
    "def test(dataloader, model:nn.Module, loss_fn):\n",
    "    size = len(dataloader.dataset)\n",
    "    num_batches = len(dataloader)\n",
    "    model.eval() # sets module in evaluation mode\n",
    "    test_loss, correct = 0, 0\n",
    "    with torch.no_grad():\n",
    "        for X, y in dataloader:\n",
    "            X, y = X.to(device), y.to(device)\n",
    "            pred = model(X)\n",
    "            test_loss += loss_fn(pred, y).item()\n",
    "            correct += (pred.argmax(1) == y).type(torch.float).sum().item()\n",
    "    test_loss /= num_batches\n",
    "    correct /= size\n",
    "    print(f\"Test Error: \\n Accuracy: {(100*correct):>0.1f}%, Avg loss: {test_loss:>8f} \\n\")"
   ]
  },
  {
   "cell_type": "code",
   "execution_count": 27,
   "metadata": {},
   "outputs": [
    {
     "name": "stdout",
     "output_type": "stream",
     "text": [
      "Epoch 1\n",
      "-------------------------------\n",
      "loss: 2.299724  [   64/60000]\n",
      "loss: 2.291102  [ 6464/60000]\n",
      "loss: 2.274094  [12864/60000]\n",
      "loss: 2.266974  [19264/60000]\n",
      "loss: 2.249399  [25664/60000]\n",
      "loss: 2.226276  [32064/60000]\n",
      "loss: 2.227283  [38464/60000]\n",
      "loss: 2.192272  [44864/60000]\n",
      "loss: 2.183540  [51264/60000]\n",
      "loss: 2.154141  [57664/60000]\n",
      "Test Error: \n",
      " Accuracy: 47.2%, Avg loss: 2.157632 \n",
      "\n",
      "Epoch 2\n",
      "-------------------------------\n",
      "loss: 2.164852  [   64/60000]\n",
      "loss: 2.162076  [ 6464/60000]\n",
      "loss: 2.105527  [12864/60000]\n",
      "loss: 2.117648  [19264/60000]\n",
      "loss: 2.067086  [25664/60000]\n",
      "loss: 2.004032  [32064/60000]\n",
      "loss: 2.031563  [38464/60000]\n",
      "loss: 1.949140  [44864/60000]\n",
      "loss: 1.950905  [51264/60000]\n",
      "loss: 1.876613  [57664/60000]\n",
      "Test Error: \n",
      " Accuracy: 53.1%, Avg loss: 1.888081 \n",
      "\n",
      "Epoch 3\n",
      "-------------------------------\n",
      "loss: 1.919366  [   64/60000]\n",
      "loss: 1.898294  [ 6464/60000]\n",
      "loss: 1.781851  [12864/60000]\n",
      "loss: 1.815315  [19264/60000]\n",
      "loss: 1.703098  [25664/60000]\n",
      "loss: 1.652561  [32064/60000]\n",
      "loss: 1.673015  [38464/60000]\n",
      "loss: 1.574717  [44864/60000]\n",
      "loss: 1.599266  [51264/60000]\n",
      "loss: 1.492239  [57664/60000]\n",
      "Test Error: \n",
      " Accuracy: 59.5%, Avg loss: 1.519422 \n",
      "\n",
      "Epoch 4\n",
      "-------------------------------\n",
      "loss: 1.586339  [   64/60000]\n",
      "loss: 1.558870  [ 6464/60000]\n",
      "loss: 1.408160  [12864/60000]\n",
      "loss: 1.471235  [19264/60000]\n",
      "loss: 1.357088  [25664/60000]\n",
      "loss: 1.350477  [32064/60000]\n",
      "loss: 1.362115  [38464/60000]\n",
      "loss: 1.286204  [44864/60000]\n",
      "loss: 1.318475  [51264/60000]\n",
      "loss: 1.224158  [57664/60000]\n",
      "Test Error: \n",
      " Accuracy: 63.1%, Avg loss: 1.253069 \n",
      "\n",
      "Epoch 5\n",
      "-------------------------------\n",
      "loss: 1.329184  [   64/60000]\n",
      "loss: 1.318064  [ 6464/60000]\n",
      "loss: 1.149576  [12864/60000]\n",
      "loss: 1.248571  [19264/60000]\n",
      "loss: 1.131301  [25664/60000]\n",
      "loss: 1.151880  [32064/60000]\n",
      "loss: 1.170435  [38464/60000]\n",
      "loss: 1.105902  [44864/60000]\n",
      "loss: 1.141647  [51264/60000]\n",
      "loss: 1.066161  [57664/60000]\n",
      "Test Error: \n",
      " Accuracy: 64.5%, Avg loss: 1.087462 \n",
      "\n",
      "Done!\n"
     ]
    }
   ],
   "source": [
    "epochs = 5\n",
    "for t in range(epochs):\n",
    "    \n",
    "    print(f\"Epoch {t+1}\\n-------------------------------\")\n",
    "    train(training_data_loader, model, loss_fn, optimizer)\n",
    "    test(testing_data_loader, model, loss_fn)\n",
    "\n",
    "print(\"Done!\")"
   ]
  },
  {
   "cell_type": "code",
   "execution_count": 29,
   "metadata": {},
   "outputs": [
    {
     "name": "stdout",
     "output_type": "stream",
     "text": [
      "Saved PyTorch Model State to model.pth\n"
     ]
    }
   ],
   "source": [
    "torch.save(model.state_dict(), \"model.pth\")\n",
    "print(\"Saved PyTorch Model State to model.pth\")"
   ]
  },
  {
   "cell_type": "code",
   "execution_count": 10,
   "metadata": {},
   "outputs": [
    {
     "data": {
      "text/plain": [
       "<All keys matched successfully>"
      ]
     },
     "execution_count": 10,
     "metadata": {},
     "output_type": "execute_result"
    }
   ],
   "source": [
    "model = NeuralNetwork()\n",
    "model.load_state_dict(torch.load(\"model.pth\"))"
   ]
  },
  {
   "cell_type": "code",
   "execution_count": 12,
   "metadata": {},
   "outputs": [
    {
     "name": "stdout",
     "output_type": "stream",
     "text": [
      "tensor([[-2.4318, -2.6873, -1.1547, -2.0186, -1.0958,  2.2845, -1.1788,  2.5103,\n",
      "          1.6418,  3.0134]])\n",
      "Predicted: \"Ankle boot\", Actual: \"Ankle boot\"\n"
     ]
    }
   ],
   "source": [
    "classes = [\n",
    "    \"T-shirt/top\",\n",
    "    \"Trouser\",\n",
    "    \"Pullover\",\n",
    "    \"Dress\",\n",
    "    \"Coat\",\n",
    "    \"Sandal\",\n",
    "    \"Shirt\",\n",
    "    \"Sneaker\",\n",
    "    \"Bag\",\n",
    "    \"Ankle boot\",\n",
    "]\n",
    "\n",
    "model.eval()\n",
    "x,y = testing_data[0][0], testing_data[0][1]\n",
    "with torch.no_grad():\n",
    "    pred = model(x)\n",
    "    print(pred)\n",
    "    predicted, actual = classes[pred[0].argmax(0)], classes[y]\n",
    "    print(f'Predicted: \"{predicted}\", Actual: \"{actual}\"')\n"
   ]
  },
  {
   "attachments": {},
   "cell_type": "markdown",
   "metadata": {},
   "source": [
    "### Tensors\n",
    "Are similar to numpy ndarrays only these can be run on a GPU."
   ]
  },
  {
   "cell_type": "code",
   "execution_count": 3,
   "metadata": {},
   "outputs": [],
   "source": [
    "import numpy as np"
   ]
  },
  {
   "cell_type": "code",
   "execution_count": 4,
   "metadata": {},
   "outputs": [
    {
     "name": "stdout",
     "output_type": "stream",
     "text": [
      "tensor([[1, 2],\n",
      "        [3, 4]])\n",
      "<class 'torch.Tensor'>\n",
      "tensor([[1, 2],\n",
      "        [3, 4]])\n",
      "<class 'torch.Tensor'>\n",
      "Ones Tensor: \n",
      " tensor([[1, 1],\n",
      "        [1, 1]]) \n",
      "\n",
      "Random Tensor: \n",
      " tensor([[0.6572, 0.5243],\n",
      "        [0.8393, 0.3537]], dtype=torch.float64) \n",
      "\n",
      "Random Tensor: \n",
      " tensor([[0.6256, 0.8364, 0.5874],\n",
      "        [0.9177, 0.1581, 0.5875]]) \n",
      "\n",
      "Ones Tensor: \n",
      " tensor([[1., 1., 1.],\n",
      "        [1., 1., 1.]]) \n",
      "\n",
      "Zeros Tensor: \n",
      " tensor([[0., 0., 0.],\n",
      "        [0., 0., 0.]])\n"
     ]
    }
   ],
   "source": [
    "data = [[1,2],[3,4]]\n",
    "data_tensor = torch.tensor(data)\n",
    "print(data_tensor)\n",
    "print(type(data_tensor))\n",
    "np_ndarray = np.array(data)\n",
    "data_tensor = torch.from_numpy(np_ndarray)\n",
    "print(data_tensor)\n",
    "print(type(data_tensor))\n",
    "x_ones = torch.ones_like(data_tensor)\n",
    "print(f\"Ones Tensor: \\n {x_ones} \\n\")\n",
    "x_rand = torch.rand_like(data_tensor, dtype=torch.float64)\n",
    "print(f\"Random Tensor: \\n {x_rand} \\n\")\n",
    "shape = (2,3,)\n",
    "rand_tensor = torch.rand(shape)\n",
    "ones_tensor = torch.ones(shape)\n",
    "zeros_tensor = torch.zeros(shape)\n",
    "\n",
    "print(f\"Random Tensor: \\n {rand_tensor} \\n\")\n",
    "print(f\"Ones Tensor: \\n {ones_tensor} \\n\")\n",
    "print(f\"Zeros Tensor: \\n {zeros_tensor}\")"
   ]
  },
  {
   "cell_type": "code",
   "execution_count": 5,
   "metadata": {},
   "outputs": [
    {
     "name": "stdout",
     "output_type": "stream",
     "text": [
      "tensor([[0.7562, 0.1546, 0.7825, 0.6120],\n",
      "        [0.5661, 0.1221, 0.5718, 0.7756],\n",
      "        [0.2494, 0.9050, 0.3983, 0.1894]], dtype=torch.float64)\n",
      "shape is torch.Size([3, 4])\n",
      "datatype is torch.float64\n",
      "device is cpu\n"
     ]
    }
   ],
   "source": [
    "tensor = torch.rand((3,4),dtype=torch.float64)\n",
    "print(tensor)\n",
    "print(f\"shape is {tensor.shape}\")\n",
    "print(f\"datatype is {tensor.dtype}\")\n",
    "print(f\"device is {tensor.device}\")\n"
   ]
  },
  {
   "cell_type": "code",
   "execution_count": 20,
   "metadata": {},
   "outputs": [
    {
     "name": "stdout",
     "output_type": "stream",
     "text": [
      "t: tensor([1., 1., 1., 1., 1.])\n",
      "n: [1. 1. 1. 1. 1.]\n",
      "t: tensor([5., 5., 5., 5., 5.])\n",
      "n: [5. 5. 5. 5. 5.]\n",
      "t: tensor([2., 2., 2., 2., 2.], dtype=torch.float64)\n",
      "n: [2. 2. 2. 2. 2.]\n"
     ]
    }
   ],
   "source": [
    "# We move our tensor to the GPU if available\n",
    "if torch.cuda.is_available():\n",
    "    tensor = tensor.to(\"cuda\")\n",
    "tensor = torch.rand(3,4)\n",
    "# print(tensor)\n",
    "first_row = tensor[0]\n",
    "# print(first_row)\n",
    "first_row = tensor[0,:]\n",
    "# print(first_row)\n",
    "first_column = tensor[:,0]\n",
    "# print(first_column)\n",
    "last_column = tensor[:,-1]\n",
    "# print(last_column)\n",
    "last_column = tensor[...,-1]\n",
    "# print(last_column)\n",
    "t1 = torch.cat([tensor, tensor], dim=1)\n",
    "# print(t1)\n",
    "t2 = torch.cat([tensor, tensor], dim=0)\n",
    "# print(t2)\n",
    "\n",
    "# This computes the matrix multiplication between two tensors. y1, y2, y3 will have the same value\n",
    "# ``tensor.T`` returns the transpose of a tensor\n",
    "y1 = tensor @ tensor.T\n",
    "# print(y1)\n",
    "y2 = tensor.matmul(tensor.T)\n",
    "# print(y2)\n",
    "\n",
    "y3 = torch.rand_like(y1)\n",
    "# print(y3)\n",
    "\n",
    "y3_mult = torch.matmul(tensor, tensor.T, out=y3)\n",
    "# print(y3_mult)\n",
    "\n",
    "\n",
    "# # This computes the element-wise product. z1, z2, z3 will have the same value\n",
    "z1 = tensor * tensor\n",
    "# print(z1)\n",
    "z2 = tensor.mul(tensor)\n",
    "# print(z2)\n",
    "\n",
    "z3 = torch.rand_like(tensor)\n",
    "# print(z3)\n",
    "# torch.mul(tensor, tensor, out=z3)\n",
    "\n",
    "agg = tensor.sum()\n",
    "agg_item = agg.item()\n",
    "# print(agg_item, type(agg_item))\n",
    "# print(f\"{tensor} \\n\")\n",
    "tensor.add_(5)\n",
    "# print(tensor)\n",
    "\n",
    "t = torch.ones(5)\n",
    "print(f\"t: {t}\")\n",
    "n = t.numpy()\n",
    "print(f\"n: {n}\")\n",
    "t.add_(4)\n",
    "print(f\"t: {t}\")\n",
    "print(f\"n: {n}\")\n",
    "n = np.ones(5)\n",
    "t = torch.from_numpy(n)\n",
    "np.add(n, 1, out=n)\n",
    "print(f\"t: {t}\")\n",
    "print(f\"n: {n}\")"
   ]
  },
  {
   "attachments": {},
   "cell_type": "markdown",
   "metadata": {},
   "source": [
    "### DATASETS & DATALOADERS"
   ]
  },
  {
   "cell_type": "code",
   "execution_count": 48,
   "metadata": {},
   "outputs": [],
   "source": [
    "import pandas as pd\n",
    "from PIL import Image\n",
    "import uuid\n",
    "\n",
    "labels_map = {\n",
    "    0: \"TShirt\",\n",
    "    1: \"Trouser\",\n",
    "    2: \"Pullover\",\n",
    "    3: \"Dress\",\n",
    "    4: \"Coat\",\n",
    "    5: \"Sandal\",\n",
    "    6: \"Shirt\",\n",
    "    7: \"Sneaker\",\n",
    "    8: \"Bag\",\n",
    "    9: \"AnkleBoot\",\n",
    "}\n",
    "\n",
    "train_data = pd.read_csv(\"data/FashionMNIST2/archive/fashion-mnist_test.csv\")\n",
    "train_data = train_data.to_numpy()\n",
    "labels_dataset = []\n",
    "for data in train_data:\n",
    "    label = data[0].item()\n",
    "    image_file_name = labels_map[label]+str(uuid.uuid4())+\".jpg\"\n",
    "    image_path = \"data/FashionMNIST2/test/images/\"+image_file_name\n",
    "    image_data = data[1:].reshape((28,28))\n",
    "    img = Image.fromarray(np.asarray(image_data).astype(np.uint8))\n",
    "    img.save(image_path)\n",
    "    labels_dataset.append([image_file_name,label])\n",
    "\n",
    "labels = pd.DataFrame(labels_dataset)\n",
    "labels.to_csv(\"data/FashionMNIST2/test/labels.csv\",index=False,header=False)"
   ]
  },
  {
   "cell_type": "code",
   "execution_count": 25,
   "metadata": {},
   "outputs": [],
   "source": [
    "\n",
    "from torch.utils.data import Dataset,DataLoader\n",
    "from torchvision.io import read_image\n",
    "import pandas as pd\n",
    "import os\n",
    "\n",
    "class CustomImageDataset(Dataset):\n",
    "    def __init__(self, images_directory, targets_file, image_transform=None, label_tranform=None):\n",
    "        self.images_directory = images_directory\n",
    "        self.image_labels = pd.read_csv(targets_file)\n",
    "        self.image_transform = image_transform\n",
    "        self.label_tranform = label_tranform\n",
    "    \n",
    "    def __len__(self):\n",
    "        return len(self.image_labels)\n",
    "\n",
    "    def __getitem__(self, index):\n",
    "        image_path = os.path.join(self.images_directory,self.image_labels.iloc[index, 0])\n",
    "        image = read_image(image_path)\n",
    "        label = self.image_labels.iloc[index, 1]\n",
    "        if self.image_transform:\n",
    "            image = self.image_transform(image)\n",
    "        if self.label_tranform:\n",
    "            label = self.label_tranform(label)\n",
    "        return image, label\n",
    "    "
   ]
  },
  {
   "cell_type": "code",
   "execution_count": 26,
   "metadata": {},
   "outputs": [],
   "source": [
    "train_dataset = CustomImageDataset(\"data/FashionMNIST2/train/images/\",\"data/FashionMNIST2/train/labels.csv\")\n",
    "test_dataset = CustomImageDataset(\"data/FashionMNIST2/test/images/\",\"data/FashionMNIST2/test/labels.csv\")\n",
    "\n",
    "train_dataloader = DataLoader(train_dataset, batch_size=64, shuffle=True)\n",
    "test_dataloader = DataLoader(test_dataset, batch_size=64, shuffle=True)"
   ]
  },
  {
   "cell_type": "code",
   "execution_count": 29,
   "metadata": {},
   "outputs": [
    {
     "name": "stdout",
     "output_type": "stream",
     "text": [
      "Feature batch shape: torch.Size([64, 1, 28, 28])\n",
      "Labels batch shape: torch.Size([64])\n",
      "torch.Size([1, 28, 28])\n"
     ]
    },
    {
     "data": {
      "image/png": "[encoded data removed]",
      "text/plain": [
       "<Figure size 640x480 with 1 Axes>"
      ]
     },
     "metadata": {},
     "output_type": "display_data"
    },
    {
     "name": "stdout",
     "output_type": "stream",
     "text": [
      "Label: 5\n"
     ]
    }
   ],
   "source": [
    "# Display image and label.\n",
    "train_features, train_labels = next(iter(train_dataloader))\n",
    "print(f\"Feature batch shape: {train_features.size()}\")\n",
    "print(f\"Labels batch shape: {train_labels.size()}\")\n",
    "print(train_features[0].shape)\n",
    "img = train_features[0].squeeze()\n",
    "label = train_labels[0]\n",
    "plt.imshow(img, cmap=\"gray\")\n",
    "plt.show()\n",
    "print(f\"Label: {label}\")"
   ]
  },
  {
   "cell_type": "code",
   "execution_count": 39,
   "metadata": {},
   "outputs": [],
   "source": [
    "train_dataset = CustomImageDataset(\"data/FashionMNIST2/train/images/\",\n",
    "                                   \"data/FashionMNIST2/train/labels.csv\",\n",
    "                                   image_transform=ToTensor(),\n",
    "                                   label_tranform=Lambda(lambda y:torch.zeros(10,dtype=torch.float64).scatter_(0, torch.tensor(6), value=1))\n",
    "                                )\n",
    "test_dataset = CustomImageDataset(\"data/FashionMNIST2/test/images/\",\n",
    "                                    \"data/FashionMNIST2/test/labels.csv\",\n",
    "                                    image_transform=ToTensor(),\n",
    "                                    label_tranform=Lambda(lambda y:torch.zeros(10,dtype=torch.float64).scatter_(0, torch.tensor(6), value=1))\n",
    "                                 )\n",
    "\n",
    "train_dataloader = DataLoader(train_dataset, batch_size=64, shuffle=True)\n",
    "test_dataloader = DataLoader(test_dataset, batch_size=64, shuffle=True)"
   ]
  }
 ],
 "metadata": {
  "kernelspec": {
   "display_name": "env",
   "language": "python",
   "name": "python3"
  },
  "language_info": {
   "codemirror_mode": {
    "name": "ipython",
    "version": 3
   },
   "file_extension": ".py",
   "mimetype": "text/x-python",
   "name": "python",
   "nbconvert_exporter": "python",
   "pygments_lexer": "ipython3",
   "version": "3.10.7"
  },
  "orig_nbformat": 4
 },
 "nbformat": 4,
 "nbformat_minor": 2
}
