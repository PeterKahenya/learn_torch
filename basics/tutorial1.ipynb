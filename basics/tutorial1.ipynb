{
 "cells": [
  {
   "cell_type": "code",
   "execution_count": 4,
   "metadata": {},
   "outputs": [],
   "source": [
    "import torch\n",
    "from torch import nn\n",
    "from torch.utils.data import DataLoader\n",
    "from torchvision import datasets\n",
    "from torchvision.transforms import ToTensor"
   ]
  },
  {
   "cell_type": "code",
   "execution_count": 5,
   "metadata": {},
   "outputs": [],
   "source": [
    "training_data = datasets.FashionMNIST(root=\"data\",train=True,download=True,transform=ToTensor())\n",
    "testing_data = datasets.FashionMNIST(root=\"data\",train=False,download=True,transform=ToTensor())"
   ]
  },
  {
   "cell_type": "code",
   "execution_count": 6,
   "metadata": {},
   "outputs": [
    {
     "name": "stdout",
     "output_type": "stream",
     "text": [
      "Shape of X[N, C, H, W]: torch.Size([64, 1, 28, 28])\n",
      "Shape of y: torch.Size([64]) torch.int64\n"
     ]
    }
   ],
   "source": [
    "batch_size = 64\n",
    "\n",
    "training_data_loader = DataLoader(training_data,batch_size=batch_size)\n",
    "testing_data_loader = DataLoader(testing_data,batch_size=batch_size)\n",
    "\n",
    "for X,y in testing_data_loader:\n",
    "    print(f\"Shape of X[N, C, H, W]: {X.shape}\")\n",
    "    print(f\"Shape of y: {y.shape} {y.dtype}\")\n",
    "    break"
   ]
  },
  {
   "cell_type": "code",
   "execution_count": 7,
   "metadata": {},
   "outputs": [
    {
     "name": "stdout",
     "output_type": "stream",
     "text": [
      "using device cpu\n"
     ]
    }
   ],
   "source": [
    "device = ('cuda' if torch.cuda.is_available() else \"mps\" if torch.backends.mps.is_available() else \"cpu\")\n",
    "print(f\"using device {device}\")"
   ]
  },
  {
   "cell_type": "code",
   "execution_count": 8,
   "metadata": {},
   "outputs": [],
   "source": [
    "class NeuralNetwork(nn.Module):\n",
    "    def __init__(self):\n",
    "        super().__init__()\n",
    "        self.flatten = nn.Flatten()\n",
    "        self.linear_relu_stack = nn.Sequential(\n",
    "            nn.Linear(28*28,512),\n",
    "            nn.ReLU(),\n",
    "            nn.Linear(512, 512),\n",
    "            nn.ReLU(),\n",
    "            nn.Linear(512, 10)\n",
    "        )\n",
    "\n",
    "    def forward(self, x):\n",
    "        x = self.flatten(x)\n",
    "        logits = self.linear_relu_stack(x)\n",
    "        return logits"
   ]
  },
  {
   "cell_type": "code",
   "execution_count": 9,
   "metadata": {},
   "outputs": [
    {
     "name": "stdout",
     "output_type": "stream",
     "text": [
      "NeuralNetwork(\n",
      "  (flatten): Flatten(start_dim=1, end_dim=-1)\n",
      "  (linear_relu_stack): Sequential(\n",
      "    (0): Linear(in_features=784, out_features=512, bias=True)\n",
      "    (1): ReLU()\n",
      "    (2): Linear(in_features=512, out_features=512, bias=True)\n",
      "    (3): ReLU()\n",
      "    (4): Linear(in_features=512, out_features=10, bias=True)\n",
      "  )\n",
      ")\n"
     ]
    }
   ],
   "source": [
    "model = NeuralNetwork().to(device)\n",
    "print(model)"
   ]
  },
  {
   "cell_type": "code",
   "execution_count": 24,
   "metadata": {},
   "outputs": [],
   "source": [
    "loss_fn = nn.CrossEntropyLoss()\n",
    "optimizer = torch.optim.SGD(model.parameters(), lr=1e-3)"
   ]
  },
  {
   "cell_type": "code",
   "execution_count": 25,
   "metadata": {},
   "outputs": [],
   "source": [
    "def train(dataloader, model:nn.Module, loss_fn:nn.CrossEntropyLoss, optimizer):\n",
    "    size = len(dataloader.dataset)\n",
    "    model.train() # sets module in training mode\n",
    "    for batch, (X,y) in enumerate(dataloader):\n",
    "        X,y = X.to(device), y.to(device)\n",
    "\n",
    "        #predict and get the error\n",
    "        pred = model(X)\n",
    "        loss = loss_fn(pred,y)\n",
    "\n",
    "        #backpropagation\n",
    "        optimizer.zero_grad()\n",
    "        loss.backward()\n",
    "        optimizer.step()\n",
    "\n",
    "        if batch % 100 == 0:\n",
    "            loss, current = loss.item(), (batch+1)*len(X)\n",
    "            print(f\"loss: {loss:>7f}  [{current:>5d}/{size:>5d}]\")"
   ]
  },
  {
   "cell_type": "code",
   "execution_count": 26,
   "metadata": {},
   "outputs": [],
   "source": [
    "def test(dataloader, model:nn.Module, loss_fn):\n",
    "    size = len(dataloader.dataset)\n",
    "    num_batches = len(dataloader)\n",
    "    model.eval() # sets module in evaluation mode\n",
    "    test_loss, correct = 0, 0\n",
    "    with torch.no_grad():\n",
    "        for X, y in dataloader:\n",
    "            X, y = X.to(device), y.to(device)\n",
    "            pred = model(X)\n",
    "            test_loss += loss_fn(pred, y).item()\n",
    "            correct += (pred.argmax(1) == y).type(torch.float).sum().item()\n",
    "    test_loss /= num_batches\n",
    "    correct /= size\n",
    "    print(f\"Test Error: \\n Accuracy: {(100*correct):>0.1f}%, Avg loss: {test_loss:>8f} \\n\")"
   ]
  },
  {
   "cell_type": "code",
   "execution_count": 27,
   "metadata": {},
   "outputs": [
    {
     "name": "stdout",
     "output_type": "stream",
     "text": [
      "Epoch 1\n",
      "-------------------------------\n",
      "loss: 2.299724  [   64/60000]\n",
      "loss: 2.291102  [ 6464/60000]\n",
      "loss: 2.274094  [12864/60000]\n",
      "loss: 2.266974  [19264/60000]\n",
      "loss: 2.249399  [25664/60000]\n",
      "loss: 2.226276  [32064/60000]\n",
      "loss: 2.227283  [38464/60000]\n",
      "loss: 2.192272  [44864/60000]\n",
      "loss: 2.183540  [51264/60000]\n",
      "loss: 2.154141  [57664/60000]\n",
      "Test Error: \n",
      " Accuracy: 47.2%, Avg loss: 2.157632 \n",
      "\n",
      "Epoch 2\n",
      "-------------------------------\n",
      "loss: 2.164852  [   64/60000]\n",
      "loss: 2.162076  [ 6464/60000]\n",
      "loss: 2.105527  [12864/60000]\n",
      "loss: 2.117648  [19264/60000]\n",
      "loss: 2.067086  [25664/60000]\n",
      "loss: 2.004032  [32064/60000]\n",
      "loss: 2.031563  [38464/60000]\n",
      "loss: 1.949140  [44864/60000]\n",
      "loss: 1.950905  [51264/60000]\n",
      "loss: 1.876613  [57664/60000]\n",
      "Test Error: \n",
      " Accuracy: 53.1%, Avg loss: 1.888081 \n",
      "\n",
      "Epoch 3\n",
      "-------------------------------\n",
      "loss: 1.919366  [   64/60000]\n",
      "loss: 1.898294  [ 6464/60000]\n",
      "loss: 1.781851  [12864/60000]\n",
      "loss: 1.815315  [19264/60000]\n",
      "loss: 1.703098  [25664/60000]\n",
      "loss: 1.652561  [32064/60000]\n",
      "loss: 1.673015  [38464/60000]\n",
      "loss: 1.574717  [44864/60000]\n",
      "loss: 1.599266  [51264/60000]\n",
      "loss: 1.492239  [57664/60000]\n",
      "Test Error: \n",
      " Accuracy: 59.5%, Avg loss: 1.519422 \n",
      "\n",
      "Epoch 4\n",
      "-------------------------------\n",
      "loss: 1.586339  [   64/60000]\n",
      "loss: 1.558870  [ 6464/60000]\n",
      "loss: 1.408160  [12864/60000]\n",
      "loss: 1.471235  [19264/60000]\n",
      "loss: 1.357088  [25664/60000]\n",
      "loss: 1.350477  [32064/60000]\n",
      "loss: 1.362115  [38464/60000]\n",
      "loss: 1.286204  [44864/60000]\n",
      "loss: 1.318475  [51264/60000]\n",
      "loss: 1.224158  [57664/60000]\n",
      "Test Error: \n",
      " Accuracy: 63.1%, Avg loss: 1.253069 \n",
      "\n",
      "Epoch 5\n",
      "-------------------------------\n",
      "loss: 1.329184  [   64/60000]\n",
      "loss: 1.318064  [ 6464/60000]\n",
      "loss: 1.149576  [12864/60000]\n",
      "loss: 1.248571  [19264/60000]\n",
      "loss: 1.131301  [25664/60000]\n",
      "loss: 1.151880  [32064/60000]\n",
      "loss: 1.170435  [38464/60000]\n",
      "loss: 1.105902  [44864/60000]\n",
      "loss: 1.141647  [51264/60000]\n",
      "loss: 1.066161  [57664/60000]\n",
      "Test Error: \n",
      " Accuracy: 64.5%, Avg loss: 1.087462 \n",
      "\n",
      "Done!\n"
     ]
    }
   ],
   "source": [
    "epochs = 5\n",
    "for t in range(epochs):\n",
    "    \n",
    "    print(f\"Epoch {t+1}\\n-------------------------------\")\n",
    "    train(training_data_loader, model, loss_fn, optimizer)\n",
    "    test(testing_data_loader, model, loss_fn)\n",
    "\n",
    "print(\"Done!\")"
   ]
  },
  {
   "cell_type": "code",
   "execution_count": 29,
   "metadata": {},
   "outputs": [
    {
     "name": "stdout",
     "output_type": "stream",
     "text": [
      "Saved PyTorch Model State to model.pth\n"
     ]
    }
   ],
   "source": [
    "torch.save(model.state_dict(), \"model.pth\")\n",
    "print(\"Saved PyTorch Model State to model.pth\")"
   ]
  },
  {
   "cell_type": "code",
   "execution_count": 10,
   "metadata": {},
   "outputs": [
    {
     "data": {
      "text/plain": [
       "<All keys matched successfully>"
      ]
     },
     "execution_count": 10,
     "metadata": {},
     "output_type": "execute_result"
    }
   ],
   "source": [
    "model = NeuralNetwork()\n",
    "model.load_state_dict(torch.load(\"model.pth\"))"
   ]
  },
  {
   "cell_type": "code",
   "execution_count": 12,
   "metadata": {},
   "outputs": [
    {
     "name": "stdout",
     "output_type": "stream",
     "text": [
      "tensor([[-2.4318, -2.6873, -1.1547, -2.0186, -1.0958,  2.2845, -1.1788,  2.5103,\n",
      "          1.6418,  3.0134]])\n",
      "Predicted: \"Ankle boot\", Actual: \"Ankle boot\"\n"
     ]
    }
   ],
   "source": [
    "classes = [\n",
    "    \"T-shirt/top\",\n",
    "    \"Trouser\",\n",
    "    \"Pullover\",\n",
    "    \"Dress\",\n",
    "    \"Coat\",\n",
    "    \"Sandal\",\n",
    "    \"Shirt\",\n",
    "    \"Sneaker\",\n",
    "    \"Bag\",\n",
    "    \"Ankle boot\",\n",
    "]\n",
    "\n",
    "model.eval()\n",
    "x,y = testing_data[0][0], testing_data[0][1]\n",
    "with torch.no_grad():\n",
    "    pred = model(x)\n",
    "    print(pred)\n",
    "    predicted, actual = classes[pred[0].argmax(0)], classes[y]\n",
    "    print(f'Predicted: \"{predicted}\", Actual: \"{actual}\"')\n"
   ]
  },
  {
   "cell_type": "code",
   "execution_count": null,
   "metadata": {},
   "outputs": [],
   "source": []
  }
 ],
 "metadata": {
  "kernelspec": {
   "display_name": "env",
   "language": "python",
   "name": "python3"
  },
  "language_info": {
   "codemirror_mode": {
    "name": "ipython",
    "version": 3
   },
   "file_extension": ".py",
   "mimetype": "text/x-python",
   "name": "python",
   "nbconvert_exporter": "python",
   "pygments_lexer": "ipython3",
   "version": "3.10.7"
  },
  "orig_nbformat": 4
 },
 "nbformat": 4,
 "nbformat_minor": 2
}
